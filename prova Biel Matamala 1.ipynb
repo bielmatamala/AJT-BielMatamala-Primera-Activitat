{
 "cells": [
  {
   "cell_type": "markdown",
   "id": "9ee2b1dc",
   "metadata": {},
   "source": [
    "Exercici 1: Enters "
   ]
  },
  {
   "cell_type": "code",
   "execution_count": 15,
   "id": "436b402c",
   "metadata": {},
   "outputs": [
    {
     "name": "stdout",
     "output_type": "stream",
     "text": [
      "El cost total és: 208.75€\n",
      "El cost final és: 54.108000000000004€\n"
     ]
    }
   ],
   "source": [
    "#part 1\n",
    "preu_entrades = 8.35\n",
    "nombre_entrades = int(input(\"Quantes entrades vols? \"))\n",
    "cost_total = preu_entrades * nombre_entrades\n",
    "print(f\"El cost total és: {cost_total}€\")\n",
    "#part 2\n",
    "nombre_entrades_retornades = 4\n",
    "nombre_entrades = 10\n",
    "percentatge = 88\n",
    "cost_total = preu_entrades * nombre_entrades\n",
    "cost_retorn = (preu_entrades * percentatge / 100) * nombre_entrades_retornades\n",
    "cost_final = cost_total - cost_retorn\n",
    "print(f\"El cost final és: {cost_final}€\")"
   ]
  },
  {
   "cell_type": "markdown",
   "id": "7b54f3ce",
   "metadata": {},
   "source": [
    "Exercici 2"
   ]
  },
  {
   "cell_type": "code",
   "execution_count": 10,
   "id": "51452209",
   "metadata": {},
   "outputs": [
    {
     "name": "stdout",
     "output_type": "stream",
     "text": [
      "58.51985059900009\n"
     ]
    }
   ],
   "source": [
    "i = 0\n",
    "p = 1000\n",
    "Io = 10\n",
    "R = 0.01\n",
    "t = 5\n",
    "i = Io + (p - Io) * (1-(1-R)**t)\n",
    "print(i)"
   ]
  },
  {
   "cell_type": "markdown",
   "id": "68cdbaf4",
   "metadata": {},
   "source": [
    "Exercici 3"
   ]
  },
  {
   "cell_type": "code",
   "execution_count": 25,
   "id": "880fa731",
   "metadata": {},
   "outputs": [
    {
     "name": "stdout",
     "output_type": "stream",
     "text": [
      "El perimetre del cercle petit és: 157.08\n",
      "El perimetre del cercle gran és: 314.16\n",
      "L'area del cercle petit és: 1963.5\n",
      "L'area del cercle gran és: 7853.98\n",
      "El volum de l'esfera petita és: 65449.85\n",
      "El volum de l'esfera gran és: 523598.78\n"
     ]
    }
   ],
   "source": [
    "import math\n",
    "r1 = 25\n",
    "r2 = 50\n",
    "P1 = 2*math.pi*r1\n",
    "P2 = 2*math.pi*r2\n",
    "A1 = math.pi*(r1**2)\n",
    "A2 = math.pi*(r2**2)\n",
    "v1 = (4/3)*math.pi*(r1**3 )\n",
    "V2 = (4/3)*math.pi*(r2**3 )\n",
    "P1 = round(P1,2)\n",
    "P2 = round(P2,2)\n",
    "A1 = round(A1,2)\n",
    "A2 = round(A2,2)\n",
    "v1 = round(v1,2)\n",
    "V2 = round(V2,2)\n",
    "print(f\"El perimetre del cercle petit és: {P1}\")\n",
    "print(f\"El perimetre del cercle gran és: {P2}\")\n",
    "print(f\"L'area del cercle petit és: {A1}\")\n",
    "print(f\"L'area del cercle gran és: {A2 }\")\n",
    "print(f\"El volum de l'esfera petita és: {v1}\")\n",
    "print(f\"El volum de l'esfera gran és: {V2}\")"
   ]
  },
  {
   "cell_type": "markdown",
   "id": "fe788d4f",
   "metadata": {},
   "source": [
    "Part B"
   ]
  },
  {
   "cell_type": "code",
   "execution_count": 31,
   "id": "7c01efd4",
   "metadata": {},
   "outputs": [
    {
     "name": "stdout",
     "output_type": "stream",
     "text": [
      "Hola, el meu nom és Biel_Matamala.\n",
      " La primera lletra del meu nom és: B\n",
      " l'última lletra del meu nom és: a\n",
      " Els 3 caracters entre la posicio 2 i la posicio 5 són: el_\n",
      " El meu nom, amb espais, te: 13\n",
      " el meu nom rn majuscules és veu així:BIEL_MATAMALA\n",
      " El meu nom en  minuscules és així: biel_matamala\n"
     ]
    }
   ],
   "source": [
    "nom = \"Biel_Matamala\"\n",
    "primera_lletra = nom[0]\n",
    "ultima_lletra = nom[-1]\n",
    "tres_lletres = nom[2:5]\n",
    "nom_M = nom.upper()\n",
    "nom_m = nom.lower()\n",
    "llargada_nom = len(nom)\n",
    "print(f\"Hola, el meu nom és {nom}.\\n La primera lletra del meu nom és: {primera_lletra}\\n l'última lletra del meu nom és: {ultima_lletra}\\n Els 3 caracters entre la posicio 2 i la posicio 5 són: {tres_lletres}\\n El meu nom, amb espais, te: {llargada_nom}\\n el meu nom rn majuscules és veu així:{nom_M}\\n El meu nom en  minuscules és així: {nom_m}\")"
   ]
  }
 ],
 "metadata": {
  "kernelspec": {
   "display_name": "Python 3",
   "language": "python",
   "name": "python3"
  },
  "language_info": {
   "codemirror_mode": {
    "name": "ipython",
    "version": 3
   },
   "file_extension": ".py",
   "mimetype": "text/x-python",
   "name": "python",
   "nbconvert_exporter": "python",
   "pygments_lexer": "ipython3",
   "version": "3.13.7"
  }
 },
 "nbformat": 4,
 "nbformat_minor": 5
}
